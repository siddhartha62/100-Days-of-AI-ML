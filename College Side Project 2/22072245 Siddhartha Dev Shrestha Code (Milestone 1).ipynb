{
 "cells": [
  {
   "cell_type": "markdown",
   "id": "d69fb7bb-aae1-4fc3-b19d-1ea562ec3cf6",
   "metadata": {},
   "source": [
    "https://huggingface.co/datasets/dair-ai/emotion"
   ]
  },
  {
   "cell_type": "markdown",
   "id": "34e682cb-5fda-4f7f-a815-1628c5e3c0fc",
   "metadata": {},
   "source": [
    "# Installing Dataset"
   ]
  },
  {
   "cell_type": "code",
   "execution_count": 56,
   "id": "fe0265f6-cfc4-4ed4-ac95-9785631192fb",
   "metadata": {},
   "outputs": [
    {
     "name": "stdout",
     "output_type": "stream",
     "text": [
      "Requirement already satisfied: datasets in c:\\users\\user\\anaconda3\\lib\\site-packages (3.2.0)\n",
      "Requirement already satisfied: filelock in c:\\users\\user\\anaconda3\\lib\\site-packages (from datasets) (3.13.1)\n",
      "Requirement already satisfied: numpy>=1.17 in c:\\users\\user\\anaconda3\\lib\\site-packages (from datasets) (1.26.4)\n",
      "Requirement already satisfied: pyarrow>=15.0.0 in c:\\users\\user\\anaconda3\\lib\\site-packages (from datasets) (16.1.0)\n",
      "Requirement already satisfied: dill<0.3.9,>=0.3.0 in c:\\users\\user\\anaconda3\\lib\\site-packages (from datasets) (0.3.8)\n",
      "Requirement already satisfied: pandas in c:\\users\\user\\anaconda3\\lib\\site-packages (from datasets) (2.2.2)\n",
      "Requirement already satisfied: requests>=2.32.2 in c:\\users\\user\\anaconda3\\lib\\site-packages (from datasets) (2.32.3)\n",
      "Requirement already satisfied: tqdm>=4.66.3 in c:\\users\\user\\anaconda3\\lib\\site-packages (from datasets) (4.66.5)\n",
      "Requirement already satisfied: xxhash in c:\\users\\user\\anaconda3\\lib\\site-packages (from datasets) (3.5.0)\n",
      "Requirement already satisfied: multiprocess<0.70.17 in c:\\users\\user\\anaconda3\\lib\\site-packages (from datasets) (0.70.16)\n",
      "Requirement already satisfied: fsspec<=2024.9.0,>=2023.1.0 in c:\\users\\user\\anaconda3\\lib\\site-packages (from fsspec[http]<=2024.9.0,>=2023.1.0->datasets) (2024.6.1)\n",
      "Requirement already satisfied: aiohttp in c:\\users\\user\\anaconda3\\lib\\site-packages (from datasets) (3.10.5)\n",
      "Requirement already satisfied: huggingface-hub>=0.23.0 in c:\\users\\user\\anaconda3\\lib\\site-packages (from datasets) (0.27.1)\n",
      "Requirement already satisfied: packaging in c:\\users\\user\\anaconda3\\lib\\site-packages (from datasets) (24.1)\n",
      "Requirement already satisfied: pyyaml>=5.1 in c:\\users\\user\\anaconda3\\lib\\site-packages (from datasets) (6.0.1)\n",
      "Requirement already satisfied: aiohappyeyeballs>=2.3.0 in c:\\users\\user\\anaconda3\\lib\\site-packages (from aiohttp->datasets) (2.4.0)\n",
      "Requirement already satisfied: aiosignal>=1.1.2 in c:\\users\\user\\anaconda3\\lib\\site-packages (from aiohttp->datasets) (1.2.0)\n",
      "Requirement already satisfied: attrs>=17.3.0 in c:\\users\\user\\anaconda3\\lib\\site-packages (from aiohttp->datasets) (23.1.0)\n",
      "Requirement already satisfied: frozenlist>=1.1.1 in c:\\users\\user\\anaconda3\\lib\\site-packages (from aiohttp->datasets) (1.4.0)\n",
      "Requirement already satisfied: multidict<7.0,>=4.5 in c:\\users\\user\\anaconda3\\lib\\site-packages (from aiohttp->datasets) (6.0.4)\n",
      "Requirement already satisfied: yarl<2.0,>=1.0 in c:\\users\\user\\anaconda3\\lib\\site-packages (from aiohttp->datasets) (1.11.0)\n",
      "Requirement already satisfied: typing-extensions>=3.7.4.3 in c:\\users\\user\\anaconda3\\lib\\site-packages (from huggingface-hub>=0.23.0->datasets) (4.11.0)\n",
      "Requirement already satisfied: charset-normalizer<4,>=2 in c:\\users\\user\\anaconda3\\lib\\site-packages (from requests>=2.32.2->datasets) (3.3.2)\n",
      "Requirement already satisfied: idna<4,>=2.5 in c:\\users\\user\\anaconda3\\lib\\site-packages (from requests>=2.32.2->datasets) (3.7)\n",
      "Requirement already satisfied: urllib3<3,>=1.21.1 in c:\\users\\user\\anaconda3\\lib\\site-packages (from requests>=2.32.2->datasets) (2.2.3)\n",
      "Requirement already satisfied: certifi>=2017.4.17 in c:\\users\\user\\anaconda3\\lib\\site-packages (from requests>=2.32.2->datasets) (2024.12.14)\n",
      "Requirement already satisfied: colorama in c:\\users\\user\\anaconda3\\lib\\site-packages (from tqdm>=4.66.3->datasets) (0.4.6)\n",
      "Requirement already satisfied: python-dateutil>=2.8.2 in c:\\users\\user\\anaconda3\\lib\\site-packages (from pandas->datasets) (2.9.0.post0)\n",
      "Requirement already satisfied: pytz>=2020.1 in c:\\users\\user\\anaconda3\\lib\\site-packages (from pandas->datasets) (2024.1)\n",
      "Requirement already satisfied: tzdata>=2022.7 in c:\\users\\user\\anaconda3\\lib\\site-packages (from pandas->datasets) (2023.3)\n",
      "Requirement already satisfied: six>=1.5 in c:\\users\\user\\anaconda3\\lib\\site-packages (from python-dateutil>=2.8.2->pandas->datasets) (1.16.0)\n"
     ]
    }
   ],
   "source": [
    "!pip install datasets"
   ]
  },
  {
   "cell_type": "markdown",
   "id": "bc3e4908-191b-4ce8-849e-2db6676b9134",
   "metadata": {},
   "source": [
    "# Importing Necessary Libraries"
   ]
  },
  {
   "cell_type": "code",
   "execution_count": 5,
   "id": "853bdcce-8a2e-46c1-9b3d-4aa0f0512ea7",
   "metadata": {},
   "outputs": [],
   "source": [
    "from datasets import load_dataset\n",
    "from sklearn.feature_extraction.text import TfidfVectorizer\n",
    "from sklearn.model_selection import train_test_split\n",
    "from sklearn.naive_bayes import MultinomialNB\n",
    "from sklearn.svm import SVC\n",
    "from sklearn.ensemble import RandomForestClassifier\n",
    "from sklearn.metrics import accuracy_score\n",
    "import matplotlib.pyplot as plt\n",
    "from sklearn.metrics import precision_score\n",
    "from sklearn.metrics import f1_score\n",
    "from sklearn.metrics import recall_score\n",
    "from sklearn.metrics import precision_score, recall_score, accuracy_score"
   ]
  },
  {
   "cell_type": "markdown",
   "id": "fc2d05d7-7793-4efd-8926-749ffa5b3c3b",
   "metadata": {},
   "source": [
    "# Data Preprocessing"
   ]
  },
  {
   "cell_type": "code",
   "execution_count": 7,
   "id": "0c8dea34-1599-4669-9c5b-6778a45ac2b6",
   "metadata": {},
   "outputs": [],
   "source": [
    "data = load_dataset(\"dair-ai/emotion\")"
   ]
  },
  {
   "cell_type": "code",
   "execution_count": 8,
   "id": "119265c9-778e-4ef0-90a5-53863a498317",
   "metadata": {},
   "outputs": [],
   "source": [
    "texts = data['train']['text']\n",
    "labels = data['train']['label']"
   ]
  },
  {
   "cell_type": "code",
   "execution_count": 9,
   "id": "21ad03a9-07ff-4b26-b89f-db1dfabf7cf5",
   "metadata": {},
   "outputs": [
    {
     "data": {
      "text/plain": [
       "['i didnt feel humiliated',\n",
       " 'i can go from feeling so hopeless to so damned hopeful just from being around someone who cares and is awake',\n",
       " 'im grabbing a minute to post i feel greedy wrong',\n",
       " 'i am ever feeling nostalgic about the fireplace i will know that it is still on the property',\n",
       " 'i am feeling grouchy',\n",
       " 'ive been feeling a little burdened lately wasnt sure why that was']"
      ]
     },
     "execution_count": 9,
     "metadata": {},
     "output_type": "execute_result"
    }
   ],
   "source": [
    "texts[0:6]"
   ]
  },
  {
   "cell_type": "code",
   "execution_count": 13,
   "id": "76933784-f4cb-4463-b6eb-0414c4486cf4",
   "metadata": {},
   "outputs": [
    {
     "name": "stdout",
     "output_type": "stream",
     "text": [
      "Mapped Labels: ['Sadness', 'Sadness', 'Anger', 'Love', 'Anger', 'Sadness']\n"
     ]
    }
   ],
   "source": [
    "# Define a dictionary for label-to-emotion mapping\n",
    "label_map = {\n",
    "    0: \"Sadness\",\n",
    "    1: \"Joy\",\n",
    "    2: \"Love\",\n",
    "    3: \"Anger\",\n",
    "    4: \"Fear\",\n",
    "    5: \"Surprise\"\n",
    "}\n",
    "\n",
    "# Example: Mapping a few labels\n",
    "example_labels = [0, 0, 3, 2, 3, 0]\n",
    "mapped_labels = [label_map[label] for label in example_labels]\n",
    "\n",
    "# Display the mapped labels\n",
    "print(\"Mapped Labels:\", mapped_labels)"
   ]
  },
  {
   "cell_type": "code",
   "execution_count": 15,
   "id": "066183ad-e6d8-4f67-9d2f-758f9282a1b2",
   "metadata": {},
   "outputs": [
    {
     "data": {
      "text/plain": [
       "[0, 0, 3, 2, 3, 0]"
      ]
     },
     "execution_count": 15,
     "metadata": {},
     "output_type": "execute_result"
    }
   ],
   "source": [
    "labels[0:6]"
   ]
  },
  {
   "cell_type": "code",
   "execution_count": 17,
   "id": "839f1d5a-e24c-44e1-8bb5-1949aa4f3798",
   "metadata": {},
   "outputs": [],
   "source": [
    "X_train, X_test, y_train, y_test = train_test_split(texts, labels, test_size=0.2, random_state=42)"
   ]
  },
  {
   "cell_type": "code",
   "execution_count": 19,
   "id": "1f968292-9ba4-4c35-b1eb-81820a501945",
   "metadata": {},
   "outputs": [],
   "source": [
    "vectorizer = TfidfVectorizer()\n",
    "X_train_vec = vectorizer.fit_transform(X_train)\n",
    "X_test_vec = vectorizer.transform(X_test)\n"
   ]
  },
  {
   "cell_type": "markdown",
   "id": "8b013079-5bdf-4a1a-a2a6-d3761a0654cb",
   "metadata": {},
   "source": [
    "# Naive Bayes Model"
   ]
  },
  {
   "cell_type": "code",
   "execution_count": 21,
   "id": "65abca07-b8e8-40d5-871f-09f9ce0f1693",
   "metadata": {},
   "outputs": [
    {
     "name": "stdout",
     "output_type": "stream",
     "text": [
      "Naive Bayes Accuracy: 0.62\n"
     ]
    }
   ],
   "source": [
    "nb_model = MultinomialNB()\n",
    "nb_model.fit(X_train_vec, y_train)\n",
    "nb_y_pred = nb_model.predict(X_test_vec)\n",
    "nb_accuracy = accuracy_score(y_test, nb_y_pred)\n",
    "print(f\"Naive Bayes Accuracy: {nb_accuracy:.2f}\")"
   ]
  },
  {
   "cell_type": "code",
   "execution_count": 23,
   "id": "bb6a4f36-8577-4bd0-8211-af9d40473af4",
   "metadata": {},
   "outputs": [
    {
     "name": "stdout",
     "output_type": "stream",
     "text": [
      "Naive Bayes Precision: 0.71\n"
     ]
    }
   ],
   "source": [
    "nb_precision = precision_score(y_test, nb_y_pred, average='weighted', zero_division=0)\n",
    "print(f\"Naive Bayes Precision: {nb_precision:.2f}\")"
   ]
  },
  {
   "cell_type": "code",
   "execution_count": 29,
   "id": "9cbf939b-12aa-4954-ae39-d10c7715b39a",
   "metadata": {},
   "outputs": [
    {
     "name": "stdout",
     "output_type": "stream",
     "text": [
      "Naive Bayes F1 Score: 0.52\n"
     ]
    }
   ],
   "source": [
    "nb_f1 = f1_score(y_test, nb_y_pred, average='weighted', zero_division=0)\n",
    "print(f\"Naive Bayes F1 Score: {nb_f1:.2f}\")"
   ]
  },
  {
   "cell_type": "code",
   "execution_count": 117,
   "id": "ce37cc16-5d58-4402-a190-174e9e8963a7",
   "metadata": {},
   "outputs": [
    {
     "name": "stdout",
     "output_type": "stream",
     "text": [
      "Naive Bayes Recall: 0.62\n"
     ]
    }
   ],
   "source": [
    "nb_recall = recall_score(y_test, nb_y_pred, average='weighted', zero_division=0)\n",
    "print(f\"Naive Bayes Recall: {nb_recall:.2f}\")"
   ]
  },
  {
   "cell_type": "markdown",
   "id": "30dd852e-7598-44e8-8f72-3036f51b73ea",
   "metadata": {},
   "source": [
    "# SVM Model"
   ]
  },
  {
   "cell_type": "code",
   "execution_count": 70,
   "id": "a346cff2-e367-4b5b-a85c-288b641e0631",
   "metadata": {},
   "outputs": [
    {
     "name": "stdout",
     "output_type": "stream",
     "text": [
      "SVM Accuracy: 0.88\n"
     ]
    }
   ],
   "source": [
    "svm_model = SVC(kernel='linear', random_state=42)\n",
    "svm_model.fit(X_train_vec, y_train)\n",
    "svm_y_pred = svm_model.predict(X_test_vec)\n",
    "svm_accuracy = accuracy_score(y_test, svm_y_pred)\n",
    "print(f\"SVM Accuracy: {svm_accuracy:.2f}\")"
   ]
  },
  {
   "cell_type": "code",
   "execution_count": 71,
   "id": "1e3aad46-3874-41ef-bb7d-d25fd7f3777e",
   "metadata": {},
   "outputs": [
    {
     "name": "stdout",
     "output_type": "stream",
     "text": [
      "SVM Precision: 0.88\n"
     ]
    }
   ],
   "source": [
    "svm_precision = precision_score(y_test, svm_y_pred, average='weighted', zero_division=0)\n",
    "print(f\"SVM Precision: {svm_precision:.2f}\")"
   ]
  },
  {
   "cell_type": "code",
   "execution_count": 72,
   "id": "804ed031-957e-46a8-8217-6f2bbc319b46",
   "metadata": {},
   "outputs": [
    {
     "name": "stdout",
     "output_type": "stream",
     "text": [
      "SVM F1 Score: 0.88\n"
     ]
    }
   ],
   "source": [
    "svm_f1 = f1_score(y_test, svm_y_pred, average='weighted', zero_division=0)\n",
    "print(f\"SVM F1 Score: {svm_f1:.2f}\")\n"
   ]
  },
  {
   "cell_type": "code",
   "execution_count": 101,
   "id": "df24ccac-904b-487f-9234-e5746751aaa5",
   "metadata": {},
   "outputs": [
    {
     "name": "stdout",
     "output_type": "stream",
     "text": [
      "SVM Recall: 0.88\n"
     ]
    }
   ],
   "source": [
    "svm_recall = recall_score(y_test, svm_y_pred, average='weighted', zero_division=0)\n",
    "print(f\"SVM Recall: {svm_recall:.2f}\")"
   ]
  },
  {
   "cell_type": "markdown",
   "id": "fd0e3434-e0c5-4244-8638-e883ab826ee7",
   "metadata": {},
   "source": [
    "# Random Forest Model"
   ]
  },
  {
   "cell_type": "code",
   "execution_count": 73,
   "id": "68ddbee8-c768-48ce-9c5f-96f53d5fcd76",
   "metadata": {},
   "outputs": [
    {
     "name": "stdout",
     "output_type": "stream",
     "text": [
      "Random Forest Accuracy: 0.85\n"
     ]
    }
   ],
   "source": [
    "rf_model = RandomForestClassifier(random_state=42)\n",
    "rf_model.fit(X_train_vec, y_train)\n",
    "rf_y_pred = rf_model.predict(X_test_vec)\n",
    "rf_accuracy = accuracy_score(y_test, rf_y_pred)\n",
    "print(f\"Random Forest Accuracy: {rf_accuracy:.2f}\")"
   ]
  },
  {
   "cell_type": "code",
   "execution_count": 78,
   "id": "dbfb394c-aed2-41d4-b4e4-c38a804e95a6",
   "metadata": {},
   "outputs": [
    {
     "name": "stdout",
     "output_type": "stream",
     "text": [
      "Random Forest Precision: 0.86\n"
     ]
    }
   ],
   "source": [
    "rf_precision = precision_score(y_test, rf_y_pred, average='weighted', zero_division=0)\n",
    "print(f\"Random Forest Precision: {rf_precision:.2f}\")\n"
   ]
  },
  {
   "cell_type": "code",
   "execution_count": 103,
   "id": "c0e8b387-9452-4ae1-937f-e496aab1b2ad",
   "metadata": {},
   "outputs": [
    {
     "name": "stdout",
     "output_type": "stream",
     "text": [
      "Random Forest F1 Score: 0.85\n"
     ]
    }
   ],
   "source": [
    "rf_f1 = f1_score(y_test, rf_y_pred, average='weighted', zero_division=0)\n",
    "print(f\"Random Forest F1 Score: {rf_f1:.2f}\")\n"
   ]
  },
  {
   "cell_type": "code",
   "execution_count": 105,
   "id": "d06cefe0-4ddf-4729-81b8-568c6d1a99ad",
   "metadata": {},
   "outputs": [
    {
     "name": "stdout",
     "output_type": "stream",
     "text": [
      "Random Forest Recall: 0.85\n"
     ]
    }
   ],
   "source": [
    "rf_recall = recall_score(y_test, rf_y_pred, average='weighted', zero_division=0)\n",
    "print(f\"Random Forest Recall: {rf_recall:.2f}\")"
   ]
  },
  {
   "cell_type": "markdown",
   "id": "68a33abe-66ad-4c7e-bb90-db5354c694cf",
   "metadata": {},
   "source": [
    "# Accuracy Comparison Bar Chart"
   ]
  },
  {
   "cell_type": "code",
   "execution_count": 83,
   "id": "9a2fdcc7-4eb8-406b-9b71-d60a5f95b7c3",
   "metadata": {},
   "outputs": [
    {
     "data": {
      "image/png": "[encoded data removed]",
      "text/plain": [
       "<Figure size 800x600 with 1 Axes>"
      ]
     },
     "metadata": {},
     "output_type": "display_data"
    }
   ],
   "source": [
    "import matplotlib.pyplot as plt\n",
    "\n",
    "accuracy_scores = {'Naive Bayes': nb_accuracy, 'SVM': svm_accuracy, 'Random Forest': rf_accuracy}\n",
    "\n",
    "\n",
    "plt.figure(figsize=(8, 6))\n",
    "plt.bar(accuracy_scores.keys(), accuracy_scores.values(), color=['blue', 'green', 'orange'])\n",
    "plt.title('Model Accuracy Comparison')\n",
    "plt.ylabel('Accuracy')\n",
    "plt.xlabel('Models')\n",
    "plt.ylim(0, 1)  \n",
    "plt.show()\n"
   ]
  },
  {
   "cell_type": "markdown",
   "id": "dc0eb3b0-ca5c-42f1-bf42-6127e8de7e64",
   "metadata": {},
   "source": [
    "# Precision Comparison Bar Chart"
   ]
  },
  {
   "cell_type": "code",
   "execution_count": 85,
   "id": "be2cf2cc-0a0e-480a-b0a4-fa4d930aeabd",
   "metadata": {},
   "outputs": [
    {
     "data": {
      "image/png": "[encoded data removed]",
      "text/plain": [
       "<Figure size 800x600 with 1 Axes>"
      ]
     },
     "metadata": {},
     "output_type": "display_data"
    }
   ],
   "source": [
    "precision_scores = {'Naive Bayes': nb_precision, 'SVM': svm_precision, 'Random Forest': rf_precision}\n",
    "\n",
    "\n",
    "plt.figure(figsize=(8, 6))\n",
    "plt.bar(precision_scores.keys(), precision_scores.values(), color=['cyan', 'purple', 'brown'])\n",
    "plt.title('Model Precision Comparison')\n",
    "plt.ylabel('Precision')\n",
    "plt.xlabel('Models')\n",
    "plt.ylim(0, 1)  \n",
    "plt.show()\n"
   ]
  },
  {
   "cell_type": "markdown",
   "id": "884298d7-1330-4297-a48d-2ef625359209",
   "metadata": {},
   "source": [
    "# Recall Comparison Bar Chart"
   ]
  },
  {
   "cell_type": "code",
   "execution_count": 109,
   "id": "50d60383-b3a0-4905-ae62-454ce0c44ab6",
   "metadata": {},
   "outputs": [
    {
     "data": {
      "image/png": "[encoded data removed]",
      "text/plain": [
       "<Figure size 800x600 with 1 Axes>"
      ]
     },
     "metadata": {},
     "output_type": "display_data"
    }
   ],
   "source": [
    "recall_scores = {\n",
    "    'Naive Bayes': nb_recall,'SVM': svm_recall,'Random Forest': rf_recall \n",
    "}\n",
    "\n",
    "plt.figure(figsize=(8, 6))\n",
    "plt.bar(recall_scores.keys(), recall_scores.values(), color=['cyan', 'purple', 'brown'])\n",
    "plt.title('Model Recall Comparison')\n",
    "plt.ylabel('Recall')\n",
    "plt.xlabel('Models')\n",
    "plt.ylim(0, 1)  \n",
    "plt.show()"
   ]
  },
  {
   "cell_type": "markdown",
   "id": "f9250b22-cb47-4042-8175-9798ada4a6ba",
   "metadata": {},
   "source": [
    "# F1 Score Comparison Bar Chart"
   ]
  },
  {
   "cell_type": "code",
   "execution_count": 93,
   "id": "3b12c8e1-5f83-49c8-9b47-18b5ed5ae614",
   "metadata": {},
   "outputs": [
    {
     "data": {
      "image/png": "[encoded data removed]",
      "text/plain": [
       "<Figure size 800x600 with 1 Axes>"
      ]
     },
     "metadata": {},
     "output_type": "display_data"
    }
   ],
   "source": [
    "f1_scores = {'Naive Bayes': nb_f1, 'SVM': svm_f1, 'Random Forest': rf_f1}\n",
    "\n",
    "\n",
    "plt.figure(figsize=(8, 6))\n",
    "plt.bar(f1_scores.keys(), f1_scores.values(), color=['pink', 'teal', 'navy'])\n",
    "plt.title('Model F1 Score Comparison')\n",
    "plt.ylabel('F1 Score')\n",
    "plt.xlabel('Models')\n",
    "plt.ylim(0, 1)\n",
    "plt.show()\n"
   ]
  }
 ],
 "metadata": {
  "kernelspec": {
   "display_name": "Python 3 (ipykernel)",
   "language": "python",
   "name": "python3"
  },
  "language_info": {
   "codemirror_mode": {
    "name": "ipython",
    "version": 3
   },
   "file_extension": ".py",
   "mimetype": "text/x-python",
   "name": "python",
   "nbconvert_exporter": "python",
   "pygments_lexer": "ipython3",
   "version": "3.12.7"
  }
 },
 "nbformat": 4,
 "nbformat_minor": 5
}
